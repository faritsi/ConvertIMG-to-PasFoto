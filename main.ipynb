{
 "cells": [
  {
   "cell_type": "code",
   "execution_count": null,
   "id": "ae0d859e",
   "metadata": {},
   "outputs": [],
   "source": [
    "!pip install rembg opencv-python pillow numpy onnxruntime"
   ]
  },
  {
   "cell_type": "code",
   "execution_count": null,
   "id": "2a6da854",
   "metadata": {},
   "outputs": [],
   "source": [
    "from rembg import remove\n",
    "from PIL import Image, ImageFilter\n",
    "import numpy as np\n",
    "import cv2\n",
    "from io import BytesIO\n",
    "from google.colab import files"
   ]
  },
  {
   "cell_type": "code",
   "execution_count": null,
   "id": "98645a29",
   "metadata": {},
   "outputs": [],
   "source": [
    "uploaded = files.upload()\n",
    "\n",
    "input_path = next(iter(uploaded))\n",
    "print(\"File uploaded:\", input_path)"
   ]
  },
  {
   "cell_type": "code",
   "execution_count": null,
   "id": "bdc4bc99",
   "metadata": {},
   "outputs": [],
   "source": [
    "def smooth_edges(img_rgba, blur_radius=3):\n",
    "    r, g, b, a = img_rgba.split()  \n",
    "    a_blurred = a.filter(ImageFilter.GaussianBlur(radius=blur_radius))\n",
    "    smooth_img = Image.merge(\"RGBA\", (r, g, b, a_blurred))\n",
    "    return smooth_img\n",
    "\n",
    "def process_image(input_path, output_path, bg_color=(255, 0, 0), size=(413, 591)):\n",
    "    input_image = Image.open(input_path).convert(\"RGB\")\n",
    "    with open(input_path, 'rb') as i:\n",
    "        input_bytes = i.read()\n",
    "        result_bytes = remove(input_bytes)\n",
    "    img_rgba = Image.open(BytesIO(result_bytes)).convert(\"RGBA\")\n",
    "    img_smoothed = smooth_edges(img_rgba, blur_radius=2)\n",
    "    red_bg = Image.new(\"RGBA\", img_smoothed.size, bg_color + (255,))\n",
    "    combined = Image.alpha_composite(red_bg, img_smoothed)\n",
    "    combined = combined.filter(ImageFilter.SMOOTH)\n",
    "    combined = combined.filter(ImageFilter.DETAIL)\n",
    "    combined = combined.filter(ImageFilter.SHARPEN)\n",
    "\n",
    "    final = combined.convert(\"RGB\")\n",
    "    final.save(output_path, \"JPEG\")\n",
    "    print(\"✔️ Foto selesai diproses:\", output_path)"
   ]
  },
  {
   "cell_type": "code",
   "execution_count": null,
   "id": "43b3c4db",
   "metadata": {},
   "outputs": [],
   "source": [
    "output_filename = \"pas_foto_merah.jpg\"\n",
    "process_image(input_path, output_filename)"
   ]
  },
  {
   "cell_type": "code",
   "execution_count": null,
   "id": "dd943113",
   "metadata": {},
   "outputs": [],
   "source": [
    "files.download(output_filename)"
   ]
  }
 ],
 "metadata": {
  "language_info": {
   "name": "python"
  }
 },
 "nbformat": 4,
 "nbformat_minor": 5
}
